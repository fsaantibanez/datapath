{
  "nbformat": 4,
  "nbformat_minor": 0,
  "metadata": {
    "colab": {
      "provenance": []
    },
    "kernelspec": {
      "name": "python3",
      "display_name": "Python 3"
    },
    "language_info": {
      "name": "python"
    }
  },
  "cells": [
    {
      "cell_type": "markdown",
      "source": [
        "##**Módulo: Análisis de datos con Python**\n",
        "\n",
        "###Sesión 1 - Introducción a Python"
      ],
      "metadata": {
        "id": "YF_S1cauIHxk"
      }
    },
    {
      "cell_type": "markdown",
      "source": [
        "###**Ejercicio 1**"
      ],
      "metadata": {
        "id": "BeNggNmxI2gP"
      }
    },
    {
      "cell_type": "markdown",
      "source": [
        "> Los alumnos de un curso se han dividido en dos grupos A y B de acuerdo al sexo y nombre. El grupo A está formado por las mujeres con nombres anteriores a la M y los hombres con un nombre posterior a la N y el grupo B por el resto.\n",
        "Escribir un programa que pregunte al usuario su nombre y sexo, y muestre por pantalla el grupo que corresponda"
      ],
      "metadata": {
        "id": "Lt8ty7aRfXJo"
      }
    },
    {
      "cell_type": "code",
      "execution_count": null,
      "metadata": {
        "id": "tGvnCW2uKrMK"
      },
      "outputs": [],
      "source": [
        "mujeres_a = ['a','b','c','d','e','f','g','h','i','j','k','l']\n",
        "hombres_a = ['ñ','o','p','q','r','s','t','u','v','w','x','y','z']"
      ]
    },
    {
      "cell_type": "code",
      "source": [
        "def obtener_grupo():\n",
        "    nombre = input(\"Ingresa tu nombre: \")\n",
        "    sexo = input(\"Ingresa tu sexo (M para mujer, H para hombre): \")\n",
        "    inicial = nombre[0].lower()\n",
        "    if sexo == 'M':\n",
        "        if inicial in mujeres_a:\n",
        "            return print(f'\\nLa alumna {nombre} pertence al grupo A')\n",
        "        else:\n",
        "            return print(f'\\nLa alumna {nombre} pertenece al grupo B')\n",
        "    elif sexo == 'H':\n",
        "        if inicial in hombres_a:\n",
        "            return print(f'\\nEl alumno {nombre} pertenece al grupo A')\n",
        "        else:\n",
        "            return print(f'\\nEl alumno {nombre} pertenece al grupo B')\n",
        "    else:\n",
        "        return print(f'\\nEl alumno {nombre} no pertenece a ningún grupo')\n",
        "\n",
        "obtener_grupo()"
      ],
      "metadata": {
        "colab": {
          "base_uri": "https://localhost:8080/"
        },
        "id": "OIMNIIXZ-2LK",
        "outputId": "d70f4594-0fc1-4d79-e9f9-aee17cbf3d18"
      },
      "execution_count": null,
      "outputs": [
        {
          "output_type": "stream",
          "name": "stdout",
          "text": [
            "Ingresa tu nombre: Juan\n",
            "Ingresa tu sexo (M para mujer, H para hombre): H\n",
            "\n",
            "El alumno Juan pertenece al grupo B\n"
          ]
        }
      ]
    },
    {
      "cell_type": "code",
      "source": [
        "obtener_grupo()"
      ],
      "metadata": {
        "colab": {
          "base_uri": "https://localhost:8080/"
        },
        "id": "890EyfemH0zu",
        "outputId": "1ea173ec-87e1-411e-8b8a-70326d8850d3"
      },
      "execution_count": null,
      "outputs": [
        {
          "output_type": "stream",
          "name": "stdout",
          "text": [
            "Ingresa tu nombre: Ricardo\n",
            "Ingresa tu sexo (M para mujer, H para hombre): H\n",
            "\n",
            "El alumno Ricardo pertenece al grupo A\n"
          ]
        }
      ]
    },
    {
      "cell_type": "code",
      "source": [
        "obtener_grupo()"
      ],
      "metadata": {
        "colab": {
          "base_uri": "https://localhost:8080/"
        },
        "id": "PuHHbNSAH7Ou",
        "outputId": "96a2037a-c03d-4713-a80d-a0075672ad16"
      },
      "execution_count": null,
      "outputs": [
        {
          "output_type": "stream",
          "name": "stdout",
          "text": [
            "Ingresa tu nombre: Josefa\n",
            "Ingresa tu sexo (M para mujer, H para hombre): M\n",
            "\n",
            "La alumna Josefa pertence al grupo A\n"
          ]
        }
      ]
    },
    {
      "cell_type": "code",
      "source": [
        "obtener_grupo()"
      ],
      "metadata": {
        "colab": {
          "base_uri": "https://localhost:8080/"
        },
        "id": "6EcVzP-GIAFt",
        "outputId": "6b4c6565-d589-4c2f-f59b-21b78fb3a6d2"
      },
      "execution_count": null,
      "outputs": [
        {
          "output_type": "stream",
          "name": "stdout",
          "text": [
            "Ingresa tu nombre: Georgina\n",
            "Ingresa tu sexo (M para mujer, H para hombre): M\n",
            "\n",
            "La alumna Georgina pertence al grupo A\n"
          ]
        }
      ]
    },
    {
      "cell_type": "markdown",
      "source": [
        "###**Ejercicio 2**\n",
        "\n",
        "La pizzería Bella Napoli ofrece pizzas vegetarianas y no vegetarianas a sus\n",
        "clientes. Los ingredientes para cada tipo de pizza aparecen a continuación.\n",
        "\n",
        "> **Ingredientes vegetarianos:**\n",
        "\n",
        "*   Pimiento\n",
        "*   Tofu\n",
        "\n",
        "\n",
        "> **Ingredientes no vegetarianos:**\n",
        "\n",
        "*   Peperoni\n",
        "*   Jamón\n",
        "*   Salmón\n",
        "\n",
        "\n",
        "####**Indicaciones:**\n",
        "\n",
        "> 1.   Escribir un programa que pregunte al usuario si quiere una pizza vegetariana o no.\n",
        "2.   En función a la indicación le muestre un menú con los ingredientes disponibles para que elija.\n",
        "3.   Solo puede elegir un ingrediente además de la mozzarella y el tomate que están en todas las pizzas.\n",
        "4.   Al final se debe mostrar por pantalla si la pizza elegida es vegetariana o no y todos los ingredientes que lleva."
      ],
      "metadata": {
        "id": "6T8SwFIMJGhY"
      }
    },
    {
      "cell_type": "code",
      "source": [
        "def pedido_pizza():\n",
        "    ing_veggie = ['Tofu', 'Pimiento']\n",
        "    print(\"\"\"¡Bienvenido a pizzería Bella Napoli!\n",
        "\n",
        "    Nota: Todas nuestras pizzas tienen como ingredientes base:\n",
        "    * Queso mozzarella\n",
        "    * Tomate\n",
        "    \"\"\")\n",
        "\n",
        "    tipo_pizza = input(\"\"\"Primero ingresa el tipo de pizza entre vegetariana o no vegetariana\n",
        "    y te mostraremos los ingredientes disponibles a elegir: \"\"\")\n",
        "\n",
        "    if tipo_pizza == 'vegetariana':\n",
        "        print(\"\\nIngredientes disponibles para pizza vegetariana:\")\n",
        "        for idx, ingrediente in enumerate(ing_veggie, start=1):\n",
        "            print(f\"{idx}. {ingrediente}\")\n",
        "\n",
        "        while True:\n",
        "            seleccion = int(input(\"Elige un ingrediente (1-2): \"))\n",
        "            if 1 <= seleccion <= len(ing_veggie):\n",
        "                ingrediente_elegido = ing_veggie[seleccion - 1]\n",
        "                break\n",
        "            else:\n",
        "                print(\"Selección inválida. Vuelve a ingresar tu opción.\")\n",
        "\n",
        "    else:\n",
        "        print(\"\\nIngredientes disponibles para pizza no vegetariana:\")\n",
        "        print(\"1. Peperoni\\n2. Jamón\\n3. Salmón\")\n",
        "\n",
        "        while True:\n",
        "            seleccion = int(input(\"Elige un ingrediente (1-3): \"))\n",
        "            if 1 <= seleccion <= 3:\n",
        "                if seleccion == 1:\n",
        "                    ingrediente_elegido = \"Peperoni\"\n",
        "                elif seleccion == 2:\n",
        "                    ingrediente_elegido = \"Jamón\"\n",
        "                elif seleccion == 3:\n",
        "                    ingrediente_elegido = \"Salmón\"\n",
        "                break\n",
        "            else:\n",
        "                print(\"Selección inválida. Vuelve a ingresar tu opción.\")\n",
        "\n",
        "    if tipo_pizza == 'vegetariana':\n",
        "        if ingrediente_elegido in ing_veggie:\n",
        "            print(f\"¡A hora a disfrutar de tu pizza vegetariana Mozzarella + Tomate + {ingrediente_elegido}!\")\n",
        "        else:\n",
        "            print(\"Esta pizza no es vegetariana.\")\n",
        "    else:\n",
        "        print(f\"¡A hora a disfrutar de tu pizza no vegetariana Mozzarella + Tomate + {ingrediente_elegido}!\")"
      ],
      "metadata": {
        "id": "wtmxgdAfI-75"
      },
      "execution_count": null,
      "outputs": []
    },
    {
      "cell_type": "code",
      "source": [
        "pedido_pizza()"
      ],
      "metadata": {
        "colab": {
          "base_uri": "https://localhost:8080/"
        },
        "id": "PX5kKBUGdUba",
        "outputId": "b783492a-3be8-4952-8df6-07f221f327a1"
      },
      "execution_count": null,
      "outputs": [
        {
          "output_type": "stream",
          "name": "stdout",
          "text": [
            "¡Bienvenido a pizzería Bella Napoli! \n",
            "\n",
            "    Nota: Todas nuestras pizzas tienen como ingredientes base:\n",
            "    * Queso mozzarella \n",
            "    * Tomate \n",
            "    \n",
            "Primero ingresa el tipo de pizza entre vegetariana o no vegetariana \n",
            "    y te mostraremos los ingredientes disponibles a elegir: carnivora\n",
            "\n",
            "Ingredientes disponibles para pizza no vegetariana:\n",
            "1. Peperoni\n",
            "2. Jamón\n",
            "3. Salmón\n",
            "Elige un ingrediente (1-3): 1\n",
            "¡A hora a disfrutar de tu pizza no vegetariana Mozzarella + Tomate + Peperoni!\n"
          ]
        }
      ]
    },
    {
      "cell_type": "markdown",
      "source": [
        "###**Ejercicio 3**\n",
        "\n",
        "> Escribir un programa que pida al usuario un número entero y muestre por\n",
        "pantalla un triángulo rectángulo como el de más abajo, de altura el número\n",
        "introducido.\n",
        "\n",
        "![Captura de pantalla 2023-08-12 a la(s) 12.36.40.png](data:image/png;base64,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)"
      ],
      "metadata": {
        "id": "az2xnA5JmfrP"
      }
    },
    {
      "cell_type": "code",
      "source": [
        "def triangulo_rectangulo():\n",
        "  numero = int(input(\"Ingresar un número entero para construir un triángulo rectángulo: \"))\n",
        "  for n in range(1, numero + 1):\n",
        "      print('*' * n)"
      ],
      "metadata": {
        "id": "n2a_-vO8lt-t"
      },
      "execution_count": null,
      "outputs": []
    },
    {
      "cell_type": "code",
      "source": [
        "triangulo_rectangulo()"
      ],
      "metadata": {
        "colab": {
          "base_uri": "https://localhost:8080/"
        },
        "id": "Brpl3HYSj3HY",
        "outputId": "65ad912a-6e74-4a1a-b632-767eec05ab6e"
      },
      "execution_count": null,
      "outputs": [
        {
          "output_type": "stream",
          "name": "stdout",
          "text": [
            "Ingresar un número entero para construir un triángulo rectángulo: 5\n",
            "*\n",
            "**\n",
            "***\n",
            "****\n",
            "*****\n"
          ]
        }
      ]
    },
    {
      "cell_type": "markdown",
      "source": [
        "###**Ejercicio 4**\n",
        "\n",
        "> Escribir un programa en el que se pregunte al usuario por una frase y una\n",
        "letra, y muestre por pantalla el número de veces que aparece la letra en la\n",
        "frase."
      ],
      "metadata": {
        "id": "MH3EcVCgoJ6t"
      }
    },
    {
      "cell_type": "code",
      "source": [
        "def veces_aparece_letra():\n",
        "  frase = input(\"Ingresa una frase: \")\n",
        "  letra = input(\"Ingresa una letra: \")\n",
        "  letra = letra.lower()\n",
        "  contador = 0\n",
        "  for caracter in frase:\n",
        "    if caracter.lower() == letra:\n",
        "      contador +=1\n",
        "  print(f'La letra especificada aparece {contador} veces en la frase')"
      ],
      "metadata": {
        "id": "mnoAHY2joCVF"
      },
      "execution_count": null,
      "outputs": []
    },
    {
      "cell_type": "code",
      "source": [
        "veces_aparece_letra()"
      ],
      "metadata": {
        "colab": {
          "base_uri": "https://localhost:8080/"
        },
        "id": "-vWJj46jqPC4",
        "outputId": "c947a3ba-8fcc-4732-fd50-b1ef3e6b3436"
      },
      "execution_count": null,
      "outputs": [
        {
          "output_type": "stream",
          "name": "stdout",
          "text": [
            "Ingresa una frase: La casa es blanca con amarillo y su techo es verde\n",
            "Ingresa una letra: e\n",
            "La letra especificada aparece 5 veces en la frase\n"
          ]
        }
      ]
    },
    {
      "cell_type": "markdown",
      "source": [
        "###**Ejercicio 5**\n",
        "\n",
        "> Escribir un programa que reciba una cadena de caracteres y devuelva un diccionario con cada palabra que contiene y su frecuencia.\n",
        "\n",
        "> Escribir otra función que reciba el diccionario generado con la función anterior y devuelva una tupla con la palabra más repetida y su frecuencia."
      ],
      "metadata": {
        "id": "8czVgn-bq2Lf"
      }
    },
    {
      "cell_type": "code",
      "source": [
        "import string\n",
        "def repeticiones_palabras():\n",
        "  cadena = input(\"Ingresa la cadena para cuantificar las repeticiones: \")\n",
        "  palabras = cadena.split()  # Dividir la cadena en palabras\n",
        "  frecuencia = {}\n",
        "  palabras = [palabra.strip(string.punctuation) for palabra in palabras]\n",
        "\n",
        "  for palabra in palabras:\n",
        "    palabra = palabra.lower()  # Convertir a minúscula para contar sin distinción de mayúsculas/minúsculas\n",
        "    if palabra in frecuencia:\n",
        "      frecuencia[palabra] += 1\n",
        "    else:\n",
        "      frecuencia[palabra] = 1\n",
        "  return frecuencia"
      ],
      "metadata": {
        "id": "3nr3kGZdq0O3"
      },
      "execution_count": null,
      "outputs": []
    },
    {
      "cell_type": "code",
      "source": [
        "diccionario = repeticiones_palabras()"
      ],
      "metadata": {
        "colab": {
          "base_uri": "https://localhost:8080/"
        },
        "id": "xe5Mh-VltCDd",
        "outputId": "48b88f25-767b-4d2a-8f94-6db214c7b5ce"
      },
      "execution_count": null,
      "outputs": [
        {
          "name": "stdout",
          "output_type": "stream",
          "text": [
            "Ingresa la cadena para cuantificar las repeticiones: Existen varias ciudad que se llaman Santiago: Santiago de Chile, Santiago de la Compostela, Santiago de Cali, Santiago de Cuba, entre otras\n"
          ]
        }
      ]
    },
    {
      "cell_type": "code",
      "source": [
        "def palabra_mas_repetida(diccionario):\n",
        "    palabra = max(diccionario, key=diccionario.get)\n",
        "    frecuencia = diccionario[palabra]\n",
        "    return (palabra, frecuencia)"
      ],
      "metadata": {
        "id": "WKWtbhvptpMs"
      },
      "execution_count": null,
      "outputs": []
    },
    {
      "cell_type": "code",
      "source": [
        "palabra_mas_repetida(diccionario)"
      ],
      "metadata": {
        "colab": {
          "base_uri": "https://localhost:8080/"
        },
        "id": "vQo-mdTEtvza",
        "outputId": "da7c9907-92b7-4d46-e8d3-638df48561a5"
      },
      "execution_count": null,
      "outputs": [
        {
          "output_type": "execute_result",
          "data": {
            "text/plain": [
              "('santiago', 5)"
            ]
          },
          "metadata": {},
          "execution_count": 167
        }
      ]
    },
    {
      "cell_type": "markdown",
      "source": [
        "###**Ejercicio 6**\n",
        "\n",
        "> Escribir una función que reciba una frase y devuelva un diccionario con las\n",
        "palabras que contiene y su longitud. Usar un bucle for, y si la longitud de la\n",
        "palabra supera el valor de 7 letras, que pase salte a la siguiente."
      ],
      "metadata": {
        "id": "VVzFoIEewIH5"
      }
    },
    {
      "cell_type": "code",
      "source": [
        "def largo_palabra():\n",
        "  cadena = input(\"Ingresa tu frase aquí: \")\n",
        "  palabras = cadena.split()  # Dividir la cadena en palabras\n",
        "  largo = {}\n",
        "\n",
        "  for palabra in palabras:\n",
        "      palabra = palabra.lower()  # Convertir a minúscula para contar sin distinción de mayúsculas/minúsculas\n",
        "      if len(palabra)<=7:\n",
        "        largo[palabra] = len(palabra)\n",
        "  return largo"
      ],
      "metadata": {
        "id": "d9mUQ6FkwHh9"
      },
      "execution_count": null,
      "outputs": []
    },
    {
      "cell_type": "code",
      "source": [
        "largo_palabra()"
      ],
      "metadata": {
        "colab": {
          "base_uri": "https://localhost:8080/"
        },
        "id": "2G8fY8RUw95d",
        "outputId": "5ca22eae-b4ec-42d3-8215-57c348a122c4"
      },
      "execution_count": null,
      "outputs": [
        {
          "name": "stdout",
          "output_type": "stream",
          "text": [
            "Ingresa tu frase aquí: la casa amarilla de techo verde\n"
          ]
        },
        {
          "output_type": "execute_result",
          "data": {
            "text/plain": [
              "{'la': 2, 'casa': 4, 'de': 2, 'techo': 5, 'verde': 5}"
            ]
          },
          "metadata": {},
          "execution_count": 184
        }
      ]
    }
  ]
}
