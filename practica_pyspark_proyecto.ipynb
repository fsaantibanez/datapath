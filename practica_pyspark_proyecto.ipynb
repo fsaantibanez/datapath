{
  "nbformat": 4,
  "nbformat_minor": 0,
  "metadata": {
    "colab": {
      "provenance": [],
      "authorship_tag": "ABX9TyNiqfPD4z2Fm0kZjCIoyvho",
      "include_colab_link": true
    },
    "kernelspec": {
      "name": "python3",
      "display_name": "Python 3"
    },
    "language_info": {
      "name": "python"
    }
  },
  "cells": [
    {
      "cell_type": "markdown",
      "metadata": {
        "id": "view-in-github",
        "colab_type": "text"
      },
      "source": [
        "<a href=\"https://colab.research.google.com/github/fsaantibanez/datapath/blob/main/practica_pyspark_proyecto.ipynb\" target=\"_parent\"><img src=\"https://colab.research.google.com/assets/colab-badge.svg\" alt=\"Open In Colab\"/></a>"
      ]
    },
    {
      "cell_type": "code",
      "source": [
        "!pip install pyspark"
      ],
      "metadata": {
        "colab": {
          "base_uri": "https://localhost:8080/"
        },
        "id": "sw53LcB2cdP-",
        "outputId": "bcf5ad8c-9745-4e48-d9c2-5a88d37f6bf3"
      },
      "execution_count": 1,
      "outputs": [
        {
          "output_type": "stream",
          "name": "stdout",
          "text": [
            "Requirement already satisfied: pyspark in /usr/local/lib/python3.10/dist-packages (3.4.1)\n",
            "Requirement already satisfied: py4j==0.10.9.7 in /usr/local/lib/python3.10/dist-packages (from pyspark) (0.10.9.7)\n"
          ]
        }
      ]
    },
    {
      "cell_type": "code",
      "execution_count": 2,
      "metadata": {
        "id": "TCyzU2BicVBT"
      },
      "outputs": [],
      "source": [
        "from pyspark.sql import SparkSession\n",
        "spark = SparkSession.builder.appName(\"EjemploSpark\").getOrCreate()\n",
        "from pyspark.sql.types import StructType, StructField, StringType, IntegerType\n",
        "\n",
        "from pyspark.sql.functions import lit\n",
        "from pyspark.sql.functions import avg, round\n",
        "from pyspark.sql.functions import sum\n",
        "from pyspark.sql.functions import min, max\n",
        "from pyspark.sql.functions import when\n",
        "\n",
        "from pyspark.sql.functions import concat_ws"
      ]
    },
    {
      "cell_type": "code",
      "source": [
        "schema = StructType([\n",
        "    StructField(\"Nombre\", StringType(), True),\n",
        "    StructField(\"Edad\", IntegerType(), True),\n",
        "    StructField(\"Ciudad\", StringType(), True)\n",
        "])\n",
        "\n",
        "data = [(\"Alice\", 25, \"New York\"),\n",
        "        (\"Bob\", 30, \"Los Angeles\"),\n",
        "        (\"Charlie\", 22, \"Chicago\")]\n",
        "\n",
        "df = spark.createDataFrame(data, schema=schema)"
      ],
      "metadata": {
        "id": "iU2wzGCrcrY4"
      },
      "execution_count": 3,
      "outputs": []
    },
    {
      "cell_type": "code",
      "source": [
        "# 2. Mostrar solo los nombres de las personas del DataFrame.\n",
        "df.select(\"Nombre\").show()"
      ],
      "metadata": {
        "colab": {
          "base_uri": "https://localhost:8080/"
        },
        "id": "NZ2ErwWucni_",
        "outputId": "71fe2026-8cc9-49bd-fc42-249d49e4bd86"
      },
      "execution_count": 4,
      "outputs": [
        {
          "output_type": "stream",
          "name": "stdout",
          "text": [
            "+-------+\n",
            "| Nombre|\n",
            "+-------+\n",
            "|  Alice|\n",
            "|    Bob|\n",
            "|Charlie|\n",
            "+-------+\n",
            "\n"
          ]
        }
      ]
    },
    {
      "cell_type": "code",
      "source": [
        "# 3. Filtrar personas cuya edad sea mayor o igual a 25.\n",
        "df.filter(df.Edad >= 25).show()"
      ],
      "metadata": {
        "colab": {
          "base_uri": "https://localhost:8080/"
        },
        "id": "FkfjvDNFc-7x",
        "outputId": "4bb73123-e9e8-48a5-db9e-5240ac78d7e1"
      },
      "execution_count": 5,
      "outputs": [
        {
          "output_type": "stream",
          "name": "stdout",
          "text": [
            "+------+----+-----------+\n",
            "|Nombre|Edad|     Ciudad|\n",
            "+------+----+-----------+\n",
            "| Alice|  25|   New York|\n",
            "|   Bob|  30|Los Angeles|\n",
            "+------+----+-----------+\n",
            "\n"
          ]
        }
      ]
    },
    {
      "cell_type": "code",
      "source": [
        "# 4. Agregar una nueva columna \"Pais\" con un valor constante para todas las filas.\n",
        "df = df.withColumn(\"Pais\", lit(\"EEUU\"))\n",
        "df.show()"
      ],
      "metadata": {
        "colab": {
          "base_uri": "https://localhost:8080/"
        },
        "id": "pz5ngiXBdIQW",
        "outputId": "9d70d857-4cb0-4d83-ce00-28417372b0fa"
      },
      "execution_count": 6,
      "outputs": [
        {
          "output_type": "stream",
          "name": "stdout",
          "text": [
            "+-------+----+-----------+----+\n",
            "| Nombre|Edad|     Ciudad|Pais|\n",
            "+-------+----+-----------+----+\n",
            "|  Alice|  25|   New York|EEUU|\n",
            "|    Bob|  30|Los Angeles|EEUU|\n",
            "|Charlie|  22|    Chicago|EEUU|\n",
            "+-------+----+-----------+----+\n",
            "\n"
          ]
        }
      ]
    },
    {
      "cell_type": "code",
      "source": [
        "# 5. Calcular el promedio de edad de todas las personas.\n",
        "df.select(round(avg(\"Edad\"),1)).show()"
      ],
      "metadata": {
        "colab": {
          "base_uri": "https://localhost:8080/"
        },
        "id": "2DbdGcASdOVL",
        "outputId": "30527146-3845-49b9-9a0b-41a214b9ab12"
      },
      "execution_count": 7,
      "outputs": [
        {
          "output_type": "stream",
          "name": "stdout",
          "text": [
            "+-------------------+\n",
            "|round(avg(Edad), 1)|\n",
            "+-------------------+\n",
            "|               25.7|\n",
            "+-------------------+\n",
            "\n"
          ]
        }
      ]
    },
    {
      "cell_type": "code",
      "source": [
        "# 6. Ordenar el DataFrame por edad en orden descendente.\n",
        "df.orderBy(df.Edad.desc()).show()"
      ],
      "metadata": {
        "colab": {
          "base_uri": "https://localhost:8080/"
        },
        "id": "eEVSZNW-dT1a",
        "outputId": "b7a4c4e6-92b6-4785-c9c1-a1a9f8ef2824"
      },
      "execution_count": 8,
      "outputs": [
        {
          "output_type": "stream",
          "name": "stdout",
          "text": [
            "+-------+----+-----------+----+\n",
            "| Nombre|Edad|     Ciudad|Pais|\n",
            "+-------+----+-----------+----+\n",
            "|    Bob|  30|Los Angeles|EEUU|\n",
            "|  Alice|  25|   New York|EEUU|\n",
            "|Charlie|  22|    Chicago|EEUU|\n",
            "+-------+----+-----------+----+\n",
            "\n"
          ]
        }
      ]
    },
    {
      "cell_type": "code",
      "source": [
        "# 7. Agrupar por ciudad y calcular la cantidad de personas en cada ciudad.\n",
        "df.groupby(\"Ciudad\").count().show()"
      ],
      "metadata": {
        "colab": {
          "base_uri": "https://localhost:8080/"
        },
        "id": "6aQ2MSEidiV3",
        "outputId": "294986d5-af06-451b-def7-8834457fa73b"
      },
      "execution_count": 9,
      "outputs": [
        {
          "output_type": "stream",
          "name": "stdout",
          "text": [
            "+-----------+-----+\n",
            "|     Ciudad|count|\n",
            "+-----------+-----+\n",
            "|   New York|    1|\n",
            "|Los Angeles|    1|\n",
            "|    Chicago|    1|\n",
            "+-----------+-----+\n",
            "\n"
          ]
        }
      ]
    },
    {
      "cell_type": "code",
      "source": [
        "# 8. Renombrar la columna \"Nombre\" a \"NombreCompleto\".\n",
        "df = df.withColumnRenamed(\"Nombre\",\"NombreCompleto\")\n",
        "df.show()"
      ],
      "metadata": {
        "colab": {
          "base_uri": "https://localhost:8080/"
        },
        "id": "hq7LFC50d-fV",
        "outputId": "87ea115b-3a02-4299-801c-46a2440a9082"
      },
      "execution_count": 10,
      "outputs": [
        {
          "output_type": "stream",
          "name": "stdout",
          "text": [
            "+--------------+----+-----------+----+\n",
            "|NombreCompleto|Edad|     Ciudad|Pais|\n",
            "+--------------+----+-----------+----+\n",
            "|         Alice|  25|   New York|EEUU|\n",
            "|           Bob|  30|Los Angeles|EEUU|\n",
            "|       Charlie|  22|    Chicago|EEUU|\n",
            "+--------------+----+-----------+----+\n",
            "\n"
          ]
        }
      ]
    },
    {
      "cell_type": "code",
      "source": [
        "# 9. Eliminar la columna \"Edad\" del DataFrame.\n",
        "df.drop('Edad').show()"
      ],
      "metadata": {
        "colab": {
          "base_uri": "https://localhost:8080/"
        },
        "id": "zEGtk0gBlOWk",
        "outputId": "35ea06ea-afb0-4a3c-ca37-f50bf9b83ee9"
      },
      "execution_count": 11,
      "outputs": [
        {
          "output_type": "stream",
          "name": "stdout",
          "text": [
            "+--------------+-----------+----+\n",
            "|NombreCompleto|     Ciudad|Pais|\n",
            "+--------------+-----------+----+\n",
            "|         Alice|   New York|EEUU|\n",
            "|           Bob|Los Angeles|EEUU|\n",
            "|       Charlie|    Chicago|EEUU|\n",
            "+--------------+-----------+----+\n",
            "\n"
          ]
        }
      ]
    },
    {
      "cell_type": "code",
      "source": [
        "# 10. Realizar una consulta SQL en el DataFrame para seleccionar personas mayores de 20 años.\n",
        "df.createOrReplaceTempView(\"personas\")\n",
        "result = spark.sql(\"select * FROM personas WHERE Edad > 20\")\n",
        "result.show()"
      ],
      "metadata": {
        "colab": {
          "base_uri": "https://localhost:8080/"
        },
        "id": "JyN3lTyReH1v",
        "outputId": "5f79d70f-d63d-471b-a265-c4446f21e32a"
      },
      "execution_count": 12,
      "outputs": [
        {
          "output_type": "stream",
          "name": "stdout",
          "text": [
            "+--------------+----+-----------+----+\n",
            "|NombreCompleto|Edad|     Ciudad|Pais|\n",
            "+--------------+----+-----------+----+\n",
            "|         Alice|  25|   New York|EEUU|\n",
            "|           Bob|  30|Los Angeles|EEUU|\n",
            "|       Charlie|  22|    Chicago|EEUU|\n",
            "+--------------+----+-----------+----+\n",
            "\n"
          ]
        }
      ]
    },
    {
      "cell_type": "code",
      "source": [
        "# 11. Calcular la suma total de todas las edades.\n",
        "df.select(sum(\"Edad\")).show()"
      ],
      "metadata": {
        "colab": {
          "base_uri": "https://localhost:8080/"
        },
        "id": "w4K0ZE9rehdy",
        "outputId": "d7d48e12-8988-4a66-da4f-08b90d8dea71"
      },
      "execution_count": 13,
      "outputs": [
        {
          "output_type": "stream",
          "name": "stdout",
          "text": [
            "+---------+\n",
            "|sum(Edad)|\n",
            "+---------+\n",
            "|       77|\n",
            "+---------+\n",
            "\n"
          ]
        }
      ]
    },
    {
      "cell_type": "code",
      "source": [
        "# 12. Calcular la edad mínima y máxima de todas las personas.\n",
        "df.select(min(\"Edad\"),max(\"Edad\")).show()"
      ],
      "metadata": {
        "colab": {
          "base_uri": "https://localhost:8080/"
        },
        "id": "PEWz8zG7eues",
        "outputId": "9a9ca10d-d934-46e5-fdfe-d8d40ccde177"
      },
      "execution_count": 14,
      "outputs": [
        {
          "output_type": "stream",
          "name": "stdout",
          "text": [
            "+---------+---------+\n",
            "|min(Edad)|max(Edad)|\n",
            "+---------+---------+\n",
            "|       22|       30|\n",
            "+---------+---------+\n",
            "\n"
          ]
        }
      ]
    },
    {
      "cell_type": "code",
      "source": [
        "# 13. Filtrar personas cuya ciudad de residencia sea \"Chicago\" y edad sea menor de 30.\n",
        "df.filter((df.Ciudad == 'Chicago') &(df.Edad < 30 )).show()"
      ],
      "metadata": {
        "colab": {
          "base_uri": "https://localhost:8080/"
        },
        "id": "twZFNzEXfBvL",
        "outputId": "c3a5cfc0-1a3c-45cb-940f-91883d362ea4"
      },
      "execution_count": 15,
      "outputs": [
        {
          "output_type": "stream",
          "name": "stdout",
          "text": [
            "+--------------+----+-------+----+\n",
            "|NombreCompleto|Edad| Ciudad|Pais|\n",
            "+--------------+----+-------+----+\n",
            "|       Charlie|  22|Chicago|EEUU|\n",
            "+--------------+----+-------+----+\n",
            "\n"
          ]
        }
      ]
    },
    {
      "cell_type": "code",
      "source": [
        "# 14. Agregar una nueva columna \"EdadDuplicada\" que contenga el doble de la edad.\n",
        "df = df.withColumn(\"EdadDuplicada\",df.Edad*2)\n",
        "df.show()"
      ],
      "metadata": {
        "colab": {
          "base_uri": "https://localhost:8080/"
        },
        "id": "_74xcwP1fUXg",
        "outputId": "efdfd566-9231-48af-c67c-09229770f042"
      },
      "execution_count": 16,
      "outputs": [
        {
          "output_type": "stream",
          "name": "stdout",
          "text": [
            "+--------------+----+-----------+----+-------------+\n",
            "|NombreCompleto|Edad|     Ciudad|Pais|EdadDuplicada|\n",
            "+--------------+----+-----------+----+-------------+\n",
            "|         Alice|  25|   New York|EEUU|           50|\n",
            "|           Bob|  30|Los Angeles|EEUU|           60|\n",
            "|       Charlie|  22|    Chicago|EEUU|           44|\n",
            "+--------------+----+-----------+----+-------------+\n",
            "\n"
          ]
        }
      ]
    },
    {
      "cell_type": "code",
      "source": [
        "# 15. Convertir todas las edades en años a meses.\n",
        "df = df.withColumn(\"EdadenMeses\",df.Edad*12)\n",
        "df.show()"
      ],
      "metadata": {
        "colab": {
          "base_uri": "https://localhost:8080/"
        },
        "id": "bCRxdQjUfhhs",
        "outputId": "7286bc05-6754-4d86-c057-0b2e0f691500"
      },
      "execution_count": 17,
      "outputs": [
        {
          "output_type": "stream",
          "name": "stdout",
          "text": [
            "+--------------+----+-----------+----+-------------+-----------+\n",
            "|NombreCompleto|Edad|     Ciudad|Pais|EdadDuplicada|EdadenMeses|\n",
            "+--------------+----+-----------+----+-------------+-----------+\n",
            "|         Alice|  25|   New York|EEUU|           50|        300|\n",
            "|           Bob|  30|Los Angeles|EEUU|           60|        360|\n",
            "|       Charlie|  22|    Chicago|EEUU|           44|        264|\n",
            "+--------------+----+-----------+----+-------------+-----------+\n",
            "\n"
          ]
        }
      ]
    },
    {
      "cell_type": "code",
      "source": [
        "# 16. Contar el número total de personas en el DataFrame.\n",
        "print(f\"Hay {df.count()} personas en la base de datos\")"
      ],
      "metadata": {
        "colab": {
          "base_uri": "https://localhost:8080/"
        },
        "id": "4oR7FfXSf1WG",
        "outputId": "16210302-410a-4a14-ffc5-301690b8075f"
      },
      "execution_count": 18,
      "outputs": [
        {
          "output_type": "stream",
          "name": "stdout",
          "text": [
            "Hay 3 personas en la base de datos\n"
          ]
        }
      ]
    },
    {
      "cell_type": "code",
      "source": [
        "# 17. Filtrar personas cuya edad sea un número par.\n",
        "df.filter(df.Edad%2 == 0).show()"
      ],
      "metadata": {
        "colab": {
          "base_uri": "https://localhost:8080/"
        },
        "id": "W3cs28lKgE2V",
        "outputId": "bfb93141-38b2-4099-dbaf-fd69fff02963"
      },
      "execution_count": 19,
      "outputs": [
        {
          "output_type": "stream",
          "name": "stdout",
          "text": [
            "+--------------+----+-----------+----+-------------+-----------+\n",
            "|NombreCompleto|Edad|     Ciudad|Pais|EdadDuplicada|EdadenMeses|\n",
            "+--------------+----+-----------+----+-------------+-----------+\n",
            "|           Bob|  30|Los Angeles|EEUU|           60|        360|\n",
            "|       Charlie|  22|    Chicago|EEUU|           44|        264|\n",
            "+--------------+----+-----------+----+-------------+-----------+\n",
            "\n"
          ]
        }
      ]
    },
    {
      "cell_type": "code",
      "source": [
        "# 18. Calcular la cantidad de personas por rango de edades (0-20, 21-40, 41-60, 61+).\n",
        "df.withColumn(\"RangoEdad\", when((df.Edad >=0)& (df.Edad <=20),\"0-20\").\n",
        "              when((df.Edad >=21)& (df.Edad <=40),\"21-40\").\n",
        "              when((df.Edad >=41)& (df.Edad <=60),\"41-60\").\n",
        "              otherwise(\"61+\")).groupBy(\"RangoEdad\").count().show()"
      ],
      "metadata": {
        "colab": {
          "base_uri": "https://localhost:8080/"
        },
        "id": "KoI1RQgWgOUi",
        "outputId": "39ad0ef4-008e-4918-9feb-fc5c4b392eac"
      },
      "execution_count": 20,
      "outputs": [
        {
          "output_type": "stream",
          "name": "stdout",
          "text": [
            "+---------+-----+\n",
            "|RangoEdad|count|\n",
            "+---------+-----+\n",
            "|    21-40|    3|\n",
            "+---------+-----+\n",
            "\n"
          ]
        }
      ]
    },
    {
      "cell_type": "code",
      "source": [
        "# 19. Contar cuántas personas tienen el mismo nombre.\n",
        "df.groupBy(\"NombreCompleto\").count().show()"
      ],
      "metadata": {
        "colab": {
          "base_uri": "https://localhost:8080/"
        },
        "id": "U2WLnlpghNob",
        "outputId": "bd680ccb-69b5-4a26-babe-eacfd843ffab"
      },
      "execution_count": 21,
      "outputs": [
        {
          "output_type": "stream",
          "name": "stdout",
          "text": [
            "+--------------+-----+\n",
            "|NombreCompleto|count|\n",
            "+--------------+-----+\n",
            "|         Alice|    1|\n",
            "|       Charlie|    1|\n",
            "|           Bob|    1|\n",
            "+--------------+-----+\n",
            "\n"
          ]
        }
      ]
    },
    {
      "cell_type": "code",
      "source": [
        "# 20. Concatenar las columnas \"Nombre\" y \"Ciudad\" en una nueva columna llamada \"InformacionPersonal\".\n",
        "df = df.withColumn(\"InformacionPersonals\",concat_ws(\", \",df.NombreCompleto,df.Ciudad))\n",
        "df.show()"
      ],
      "metadata": {
        "colab": {
          "base_uri": "https://localhost:8080/"
        },
        "id": "7CuYCs78hWt2",
        "outputId": "1e4a0dab-711b-4552-cc04-2aa45f0f3f7c"
      },
      "execution_count": 22,
      "outputs": [
        {
          "output_type": "stream",
          "name": "stdout",
          "text": [
            "+--------------+----+-----------+----+-------------+-----------+--------------------+\n",
            "|NombreCompleto|Edad|     Ciudad|Pais|EdadDuplicada|EdadenMeses|InformacionPersonals|\n",
            "+--------------+----+-----------+----+-------------+-----------+--------------------+\n",
            "|         Alice|  25|   New York|EEUU|           50|        300|     Alice, New York|\n",
            "|           Bob|  30|Los Angeles|EEUU|           60|        360|    Bob, Los Angeles|\n",
            "|       Charlie|  22|    Chicago|EEUU|           44|        264|    Charlie, Chicago|\n",
            "+--------------+----+-----------+----+-------------+-----------+--------------------+\n",
            "\n"
          ]
        }
      ]
    }
  ]
}